{
  "metadata": {
    "kernelspec": {
      "name": "python",
      "display_name": "Python (Pyodide)",
      "language": "python"
    },
    "language_info": {
      "codemirror_mode": {
        "name": "python",
        "version": 3
      },
      "file_extension": ".py",
      "mimetype": "text/x-python",
      "name": "python",
      "nbconvert_exporter": "python",
      "pygments_lexer": "ipython3",
      "version": "3.8"
    }
  },
  "nbformat_minor": 5,
  "nbformat": 4,
  "cells": [
    {
      "id": "3aa8ec1f-a5f3-4066-a3ce-fb8f374d4c1c",
      "cell_type": "code",
      "source": "                                                   ### Regression Assignment ###",
      "metadata": {
        "trusted": true
      },
      "outputs": [],
      "execution_count": null
    },
    {
      "id": "3037b9c7-fd7e-49ed-82ea-e8810c680f0a",
      "cell_type": "code",
      "source": "### QUESTIONS ###\n\n1. What is Simple Linear Regression?\n2. What are the key assumptions of Simple Linear Regression?\n3. What does the coefficient m represent in the equation Y=mX+c?\n4. What does the intercept c represent in the equation Y=mx+c?\n5. How do we calculate the slope m in Simple Linear Regression?\n6. What is the purpose of the least squares method in Simple Linear Regression?\n7. How is the coefficient of determination (R) interpreted in Simple Linear Regression?\n8. What is Multiple Linear Regression?\n9. What is the main difference between Simple and Multiple Linear Regression?\n10. What are the key assumptions of Multiple Linear Regression?\n11. What is heteroscedasticity, and how does it affect the results of a Multiple Linear Regression model?\n12. How can you improve a Multiple Linear Regression model with high multicollinearity?\n13. What are some common techniques for transforming categorical variables for use in regression models?\n14. What is the role of interaction terms in Multiple Linear Regression?\n15. How can the interpretation of intercept differ between Simple and Multiple Linear Regression?\n16. What is the significance of the slope in regression analysis, and how does it affect predictions?\n17. How does the intercept in a regression model provide context for the relationship between variables?\n18. What are the limitations of using R² as a sole measure of model performance?\n19. How would you interpret a large standard error for a regression coefficient?\n20. How can heteroscedasticity be identified in residual plots, and why is it important to address it?\n21. What does it mean if a Multiple Linear Regression model has a high R' but low adjusted R³?\n22. Why is it important to scale variables in Multiple Linear Regression?\n23. What is polynomial regression?\n24. How does polynomial regression differ from linear regression?\n25. When is polynomial regression used?\n26. What is the general equation for polynomial regression?\n27. Can polynomial regression be applied to multiple variables?\n28. What are the limitations of polynomial regression?\n29. What methods can be used to evaluate model fit when selecting the degree of a polynomial?\n30. Why is visualization important in polynomial regression?\n31. How is polynomial regression implemented in Python?",
      "metadata": {
        "trusted": true
      },
      "outputs": [],
      "execution_count": null
    },
    {
      "id": "195f4726-6e58-488e-8113-02965b272a3e",
      "cell_type": "code",
      "source": "Answer1:- Simple Linear Regression is a statistical method that models the relationship between a single independent variable (X) and a continuous dependent variable (Y) using a linear equation.",
      "metadata": {
        "trusted": true
      },
      "outputs": [],
      "execution_count": null
    },
    {
      "id": "85d977d2-ff73-4287-bffa-6ae94bfbedc9",
      "cell_type": "code",
      "source": "Answer2:- The key assumptions are:\n1. Linearity\n2. Independence\n3. Homoscedasticity\n4. Normality\n5. No multicollinearity",
      "metadata": {
        "trusted": true
      },
      "outputs": [],
      "execution_count": null
    },
    {
      "id": "bafe18a1-0f10-46eb-b1d3-5318980a7f7f",
      "cell_type": "code",
      "source": "Answer3:- The coefficient m represents the slope of the regression line, indicating the change in Y for a one-unit change in X.",
      "metadata": {
        "trusted": true
      },
      "outputs": [],
      "execution_count": null
    },
    {
      "id": "15d99876-226c-472f-8d20-79dbcba5bfe1",
      "cell_type": "code",
      "source": "Answer4:- The intercept c represents the value of Y when X is equal to 0.",
      "metadata": {
        "trusted": true
      },
      "outputs": [],
      "execution_count": null
    },
    {
      "id": "70fae0db-f3b7-4834-96b6-67d07cda0394",
      "cell_type": "code",
      "source": "Answer5:- The slope m is calculated using the formula: m = Σ[(xi - x̄)(yi - ȳ)] / Σ(xi - x̄)²",
      "metadata": {
        "trusted": true
      },
      "outputs": [],
      "execution_count": null
    },
    {
      "id": "f6083c5b-7f78-4a09-824d-257eedfc99ce",
      "cell_type": "code",
      "source": "Answer6:- The least squares method is used to estimate the parameters (slope and intercept) of the regression line by minimizing the sum of the squared residuals.",
      "metadata": {
        "trusted": true
      },
      "outputs": [],
      "execution_count": null
    },
    {
      "id": "a9f6ddcc-bda3-4f6c-8ee8-99d147612348",
      "cell_type": "code",
      "source": "Answer7:- R² measures the proportion of variance in the dependent variable that is predictable from the independent variable, ranging from 0 (no fit) to 1 (perfect fit).",
      "metadata": {
        "trusted": true
      },
      "outputs": [],
      "execution_count": null
    },
    {
      "id": "18a01261-3356-4ebf-b453-79ebd317ce7d",
      "cell_type": "code",
      "source": "Answer8:- Multiple Linear Regression is a statistical method that models the relationship between multiple independent variables (X1, X2, ..., Xn) and a continuous dependent variable (Y) using a linear equation.",
      "metadata": {
        "trusted": true
      },
      "outputs": [],
      "execution_count": null
    },
    {
      "id": "3694c8db-f87a-4d6a-b9ca-3318c04dbbca",
      "cell_type": "code",
      "source": "Answer9:- The main difference is the number of independent variables: Simple Linear Regression has one, while Multiple Linear Regression has multiple.",
      "metadata": {
        "trusted": true
      },
      "outputs": [],
      "execution_count": null
    },
    {
      "id": "6b01b178-6ed8-41bc-bfa0-9756acd17e9c",
      "cell_type": "code",
      "source": "Answer10:- The key assumptions are:\n1. Linearity\n2. Independence\n3. Homoscedasticity\n4. Normality\n5. No multicollinearity",
      "metadata": {
        "trusted": true
      },
      "outputs": [],
      "execution_count": null
    },
    {
      "id": "e61bdb82-2dc8-41c6-b25f-879651914b79",
      "cell_type": "code",
      "source": "Answer11:- Heteroscedasticity refers to non-constant variance in the residuals, which can lead to biased standard errors and incorrect conclusions.",
      "metadata": {
        "trusted": true
      },
      "outputs": [],
      "execution_count": null
    },
    {
      "id": "58f90fdb-b36e-42b4-a1f8-686d1845d4db",
      "cell_type": "code",
      "source": "Answer12:- You can improve the model by:\n1. Removing correlated variables\n2. Using dimensionality reduction techniques (e.g., PCA)\n3. Regularization techniques (e.g., Ridge, Lasso)",
      "metadata": {
        "trusted": true
      },
      "outputs": [],
      "execution_count": null
    },
    {
      "id": "a293121e-e716-4d8d-8698-64eca61aca47",
      "cell_type": "code",
      "source": "Answer13:- Common techniques include:\n1. One-Hot Encoding\n2. Label Encoding\n3. Binary Encoding",
      "metadata": {
        "trusted": true
      },
      "outputs": [],
      "execution_count": null
    },
    {
      "id": "8fb973f5-03ad-4841-a9be-a2cae5cc4e18",
      "cell_type": "code",
      "source": "Answer14:- Interaction terms allow the effect of one independent variable on the dependent variable to depend on the level of another independent variable.",
      "metadata": {
        "trusted": true
      },
      "outputs": [],
      "execution_count": null
    },
    {
      "id": "10b18d04-f6c6-494c-9003-e9982eaaa128",
      "cell_type": "code",
      "source": "Answer15:- In Multiple Linear Regression, the intercept represents the value of Y when all independent variables are equal to 0, whereas in Simple Linear Regression, it represents the value of Y when X is equal to 0.",
      "metadata": {
        "trusted": true
      },
      "outputs": [],
      "execution_count": null
    },
    {
      "id": "fe968886-b739-4b1e-81a8-b41342047607",
      "cell_type": "code",
      "source": "Answer16:- The slope represents the change in Y for a one-unit change in X, and its significance affects the accuracy and reliability of predictions.",
      "metadata": {
        "trusted": true
      },
      "outputs": [],
      "execution_count": null
    },
    {
      "id": "e3d09115-6c4a-41ec-9b44-f2a8bb35b25c",
      "cell_type": "code",
      "source": "Answer17:- The intercept provides a baseline value for Y, allowing for interpretation of the relationship between variables in the context of the problem.",
      "metadata": {
        "trusted": true
      },
      "outputs": [],
      "execution_count": null
    },
    {
      "id": "8d88bd6e-13bf-4835-9333-b8fc563cec36",
      "cell_type": "code",
      "source": "Answer18:- R² does not account for:\n1. Model complexity\n2. Overfitting\n3. Prediction accuracy",
      "metadata": {
        "trusted": true
      },
      "outputs": [],
      "execution_count": null
    },
    {
      "id": "f8b60470-7d12-4f0e-842c-3f69c3b8e76b",
      "cell_type": "code",
      "source": "Answer19:- A large standard error indicates that the coefficient estimate is imprecise, making it difficult to determine the true relationship between the variable and the outcome.",
      "metadata": {
        "trusted": true
      },
      "outputs": [],
      "execution_count": null
    },
    {
      "id": "67e312a6-80be-4d71-9e13-5b3a25eecf74",
      "cell_type": "code",
      "source": "Answer20:- Heteroscedasticity can be identified by non-random patterns in residual plots. Addressing it is important to ensure accurate inference and prediction.",
      "metadata": {
        "trusted": true
      },
      "outputs": [],
      "execution_count": null
    },
    {
      "id": "6b406f88-a75d-4937-a404-a3f7e4507705",
      "cell_type": "code",
      "source": "Answer21:- It may indicate overfitting, where the model is too complex and fits the noise in the data rather than the underlying pattern.",
      "metadata": {
        "trusted": true
      },
      "outputs": [],
      "execution_count": null
    },
    {
      "id": "7cb48490-292a-4776-b31a-0ab4f5adccc6",
      "cell_type": "code",
      "source": "Answer22:- Scaling variables can improve model performance, interpretation, and numerical stability, especially when using regularization techniques.",
      "metadata": {
        "trusted": true
      },
      "outputs": [],
      "execution_count": null
    },
    {
      "id": "9e5cdfbe-9e01-4ad0-a133-1a2a0d204647",
      "cell_type": "code",
      "source": "Answer23:- Polynomial regression is a type of regression analysis where the relationship between the independent variable and the dependent variable is modeled using a polynomial equation.",
      "metadata": {
        "trusted": true
      },
      "outputs": [],
      "execution_count": null
    },
    {
      "id": "0c6e34f1-7329-4133-b826-4bddd3af03f1",
      "cell_type": "code",
      "source": "Answer24:- Polynomial regression allows for non-linear relationships between variables, whereas linear regression assumes a linear relationship.",
      "metadata": {
        "trusted": true
      },
      "outputs": [],
      "execution_count": null
    },
    {
      "id": "507c3db6-071f-4a0b-be6d-697c6b352b0d",
      "cell_type": "code",
      "source": "Answer25:- Polynomial regression is used when the relationship between variables is non-linear, and a polynomial equation provides a better fit to the data.",
      "metadata": {
        "trusted": true
      },
      "outputs": [],
      "execution_count": null
    },
    {
      "id": "8a84ec7b-c35b-46ae-9cad-41cf50105b7f",
      "cell_type": "code",
      "source": "Answer26:- The general equation is: y = β0 + β1x + β2x² + … + βnx^n + ε",
      "metadata": {
        "trusted": true
      },
      "outputs": [],
      "execution_count": null
    },
    {
      "id": "e361a3b2-eff8-4bde-941e-83deacda5c7b",
      "cell_type": "code",
      "source": "Answer27:- Yes, polynomial regression can be applied to multiple variables, but it can become complex and prone to overfitting.",
      "metadata": {
        "trusted": true
      },
      "outputs": [],
      "execution_count": null
    },
    {
      "id": "883898ea-d6d4-4125-b1c8-cbe846c7f34e",
      "cell_type": "code",
      "source": "Answer28:- Limitations include:\n1. Overfitting\n2. Increased complexity\n3. Difficulty in interpreting coefficients",
      "metadata": {
        "trusted": true
      },
      "outputs": [],
      "execution_count": null
    },
    {
      "id": "a7d84dfd-7f76-4284-97fb-80a6aca207dc",
      "cell_type": "code",
      "source": "Answer29:- Methods include:\n1. Cross-validation\n2. R-squared\n3. Mean Squared Error (MSE)",
      "metadata": {
        "trusted": true
      },
      "outputs": [],
      "execution_count": null
    },
    {
      "id": "723c3465-6937-4820-bf61-05a52bf75c76",
      "cell_type": "code",
      "source": "Answer30:- Visualization helps to:\n1. Understand the relationship between variables\n2. Identify patterns and outliers\n3. Evaluate model fit",
      "metadata": {
        "trusted": true
      },
      "outputs": [],
      "execution_count": null
    },
    {
      "id": "3a066ec5-6910-41f3-abb3-4c3a253a0b5c",
      "cell_type": "code",
      "source": "Answer31:- Polynomial regression can be implemented in Python using libraries such as scikit-learn, which provides tools for polynomial regression and model evaluation.",
      "metadata": {
        "trusted": true
      },
      "outputs": [],
      "execution_count": null
    }
  ]
}